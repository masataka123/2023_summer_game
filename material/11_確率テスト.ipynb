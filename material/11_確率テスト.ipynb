{
 "cells": [
  {
   "cell_type": "markdown",
   "metadata": {},
   "source": [
    "このクラスには教官を入れて18人いる. この中で誕生日が一緒のペアが少なくとも1ペア以上存在する確率を求めよ."
   ]
  },
  {
   "cell_type": "code",
   "execution_count": 4,
   "metadata": {},
   "outputs": [
    {
     "name": "stdout",
     "output_type": "stream",
     "text": [
      "0.34579\n"
     ]
    }
   ],
   "source": [
    "import random\n",
    "\n",
    "def Birth():\n",
    "    n=0\n",
    "    A=[0]*365\n",
    "    for i in range(18):\n",
    "        t = random.randint(0, 364)\n",
    "        if A[t]==1:\n",
    "            return 1\n",
    "        A[t]=1\n",
    "    return 0\n",
    "\n",
    "\n",
    "count=0\n",
    "N = 10**5\n",
    "for i in range(N):\n",
    "    count+=Birth()\n",
    "print(count/N)"
   ]
  },
  {
   "cell_type": "code",
   "execution_count": 9,
   "metadata": {},
   "outputs": [
    {
     "name": "stdout",
     "output_type": "stream",
     "text": [
      "0.3469114178717896\n"
     ]
    }
   ],
   "source": [
    "#理論値\n",
    "s =1\n",
    "for i in range(1,19):\n",
    "    s *= (365 + 1 - i )/365\n",
    "print(1 - s)"
   ]
  },
  {
   "cell_type": "markdown",
   "metadata": {},
   "source": [
    "あたりが1%のガチャを100回する時, 少なくとも1回以上当たる確率を求めよ.\n"
   ]
  },
  {
   "cell_type": "code",
   "execution_count": 3,
   "metadata": {},
   "outputs": [
    {
     "name": "stdout",
     "output_type": "stream",
     "text": [
      "0.6397\n"
     ]
    }
   ],
   "source": [
    "def Gacha0():\n",
    "    for i in range(100):\n",
    "        t = random.randint(1, 100)\n",
    "        if t==1:\n",
    "            return 1\n",
    "    return 0\n",
    "\n",
    "count=0\n",
    "N = 2*10**4\n",
    "for i in range(N):\n",
    "    count+=Gacha0()\n",
    "print(count/N)"
   ]
  },
  {
   "cell_type": "code",
   "execution_count": 10,
   "metadata": {},
   "outputs": [
    {
     "name": "stdout",
     "output_type": "stream",
     "text": [
      "0.6339676587267709\n"
     ]
    }
   ],
   "source": [
    "#理論値\n",
    "print(1 - (99/100)**100)"
   ]
  },
  {
   "cell_type": "markdown",
   "metadata": {},
   "source": [
    "以降\"平均いくらか\"問いに対して次のようにプログラミングを行う(モンテカルロ法っぽい感じ)\n",
    "\n",
    "まず$N$を大きい数字($10^{4}, 10^{5}$など)とする.$1 \\le i \\le N$とし第i回目のシュミレーションで$A_i$円かかったとする.\n",
    "すると平均かかった金額は\n",
    "$$\\frac{\\sum_{i=1}^{N} A_{i}}{N}$$\n",
    "円と考えられる. \n",
    "これをプログラミングで求めていく. "
   ]
  },
  {
   "cell_type": "markdown",
   "metadata": {},
   "source": [
    "1回100円の当たりが1%のガチャに関して, あたりが出るのに必要な費用は平均いくらか?\n"
   ]
  },
  {
   "cell_type": "code",
   "execution_count": 20,
   "metadata": {},
   "outputs": [
    {
     "name": "stdout",
     "output_type": "stream",
     "text": [
      "10008.5\n"
     ]
    }
   ],
   "source": [
    "import random\n",
    "\n",
    "def Gacha1():\n",
    "    n=0\n",
    "    while True:\n",
    "        n+=1\n",
    "        t = random.randint(0, 99)\n",
    "        if t==1:\n",
    "            break\n",
    "    return 100*n\n",
    "\n",
    "\n",
    "count=0\n",
    "N = 2*10**4\n",
    "for i in range(N):\n",
    "    count+=Gacha1()\n",
    "print(count/N)\n",
    "\n"
   ]
  },
  {
   "cell_type": "markdown",
   "metadata": {},
   "source": [
    "6面のサイコロを繰り返し振っていくとき, ６つの面が最低１回出るの日必要な回数は平均何回か?"
   ]
  },
  {
   "cell_type": "code",
   "execution_count": 21,
   "metadata": {},
   "outputs": [
    {
     "name": "stdout",
     "output_type": "stream",
     "text": [
      "14.67096\n"
     ]
    }
   ],
   "source": [
    "import random\n",
    "\n",
    "def dice():\n",
    "    n=0\n",
    "    A=[0]*6\n",
    "    while True:\n",
    "        n+=1\n",
    "        t = random.randint(0, 5)\n",
    "        A[t]=1\n",
    "        if sum(A)==6:\n",
    "            break\n",
    "    return n\n",
    "\n",
    "\n",
    "count=0\n",
    "N = 10**5\n",
    "for i in range(N):\n",
    "    count+=dice()\n",
    "print(count/N)"
   ]
  },
  {
   "cell_type": "markdown",
   "metadata": {},
   "source": [
    "100個のうち当たりがA,B,C,D,Eの5個あるガチャがある. 1回100円の費用がかかる. \n",
    "A~E全てを揃えるのに必要な費用は平均いくらか. "
   ]
  },
  {
   "cell_type": "code",
   "execution_count": 23,
   "metadata": {},
   "outputs": [
    {
     "name": "stdout",
     "output_type": "stream",
     "text": [
      "22917.85\n"
     ]
    }
   ],
   "source": [
    "import random\n",
    "\n",
    "def Gacha2():\n",
    "    n=0\n",
    "    A=[0]*5\n",
    "    while True:\n",
    "        n+=1\n",
    "        t = random.randint(0, 99)\n",
    "        if 0 <= t <= 4:\n",
    "            A[t]=1\n",
    "        if sum(A)==5:\n",
    "            break\n",
    "    return 100*n\n",
    "\n",
    "\n",
    "count=0\n",
    "N = 2*10**4\n",
    "for i in range(N):\n",
    "    count+=Gacha2()\n",
    "print(count/N)\n",
    "\n"
   ]
  },
  {
   "cell_type": "markdown",
   "metadata": {},
   "source": [
    "モンスターハンターライズ・サンブレイクには「弾丸節約」というスキルがある.\n",
    "このスキルは, 確率20%で発動し, ボウガンの弾を消費せずに発射できるものである.\n",
    "\n",
    "このスキルをつけて100発のボウガンの弾を発射するとき, 弾がなくなるまで発射される弾の個数は平均何発か?"
   ]
  },
  {
   "cell_type": "code",
   "execution_count": 31,
   "metadata": {},
   "outputs": [
    {
     "name": "stdout",
     "output_type": "stream",
     "text": [
      "125.01107\n"
     ]
    }
   ],
   "source": [
    "import random\n",
    "\n",
    "def MH():\n",
    "    n=0\n",
    "    b=100\n",
    "    while b>0:\n",
    "        t=random.random()\n",
    "        if t>0.2:\n",
    "            b-=1\n",
    "        n+=1\n",
    "    return n\n",
    "\n",
    "\n",
    "count=0\n",
    "N =10**5\n",
    "for i in range(N):\n",
    "    count+=MH()\n",
    "print(count/N)\n"
   ]
  },
  {
   "cell_type": "markdown",
   "metadata": {},
   "source": [
    "6面のサイコロのどれか一つの数字に100円をかける．それから3つのサイコロを同時にふる.\n",
    "かけた数字が一つも出なければ, その100円は失う.\n",
    "1つだけ出れば, その100円は戻りさらに100円もらえる. ２つだけでれば その100円は戻りさらに200円もらえ, 3つだけでればその100円は戻り300円もらえる, \n",
    "\n",
    "この賭けは有利だろうか不利だろうか."
   ]
  },
  {
   "cell_type": "code",
   "execution_count": 3,
   "metadata": {},
   "outputs": [
    {
     "name": "stdout",
     "output_type": "stream",
     "text": [
      "-7.595\n"
     ]
    }
   ],
   "source": [
    "import random\n",
    "\n",
    "def dice2():\n",
    "    a=0\n",
    "    t=random.randint(1,6)\n",
    "    for i in range(3):\n",
    "        s=random.randint(1,6)\n",
    "        if s==t:\n",
    "            a+=1\n",
    "    if a==0:\n",
    "        return -100\n",
    "    else:\n",
    "        return  a*100\n",
    "\n",
    "count=0\n",
    "N =10**5\n",
    "for i in range(N):\n",
    "    count+=dice2()\n",
    "print(count/N)"
   ]
  },
  {
   "cell_type": "code",
   "execution_count": 38,
   "metadata": {},
   "outputs": [
    {
     "data": {
      "text/plain": [
       "-7.870370370370374"
      ]
     },
     "execution_count": 38,
     "metadata": {},
     "output_type": "execute_result"
    }
   ],
   "source": [
    "#理論値\n",
    "(125/216) * (-100) +( 75/216 )* 100 + (15/216) * 200 + (1/ 216) *300"
   ]
  },
  {
   "cell_type": "markdown",
   "metadata": {},
   "source": [
    "両面にAと書いているコインが1枚, 両面にBと書いているコインが1枚, 一方にAでもう一方にBと書いているコインが1枚, 合計3枚のコインが袋の中にある.\n",
    "\n",
    "袋の中からコインを1枚取り出したところAと書いていた. そのコインの裏側にもAと書いている確率はいくらか."
   ]
  },
  {
   "cell_type": "code",
   "execution_count": 2,
   "metadata": {},
   "outputs": [
    {
     "name": "stdout",
     "output_type": "stream",
     "text": [
      "0.6631972938892337\n"
     ]
    }
   ],
   "source": [
    "import random\n",
    "count=0\n",
    "N =10**5\n",
    "trying =0\n",
    "L=[[0,0], [1,1], [0,1]]\n",
    "for i in range(N):\n",
    "    s=random.randint(0,2)\n",
    "    t=random.randint(0,1)\n",
    "    if L[s][t] ==0:\n",
    "        continue\n",
    "    trying+=1\n",
    "    if L[s][t^1]==1:\n",
    "        count+=1\n",
    "print(count/trying)"
   ]
  },
  {
   "cell_type": "markdown",
   "metadata": {},
   "source": [
    "プレーヤーの前に閉じた3つのドアがあって、1つのドアの後ろには景品の新車が、2つのドアの後ろには、はずれを意味するヤギがいる。プレーヤーは新車のドアを当てると新車がもらえる。プレーヤーが1つのドアを選択した後、司会のモンティが残りのドアのうちヤギがいるドアを開けてヤギを見せる。ここでプレーヤーは、最初に選んだドアを、残っている開けられていないドアに変更してもよいと言われる.\n",
    "\n",
    "ここでプレーヤーはドアを変更すべきだろうか?"
   ]
  },
  {
   "cell_type": "code",
   "execution_count": 42,
   "metadata": {},
   "outputs": [
    {
     "name": "stdout",
     "output_type": "stream",
     "text": [
      "0.33308\n"
     ]
    }
   ],
   "source": [
    "#変えない場合の勝つ確率.\n",
    "count=0\n",
    "N =10**5\n",
    "for i in range(N):\n",
    "    s=random.randint(1,3)\n",
    "    if s==1:\n",
    "        count +=1\n",
    "print(count/N)"
   ]
  },
  {
   "cell_type": "code",
   "execution_count": 44,
   "metadata": {},
   "outputs": [
    {
     "name": "stdout",
     "output_type": "stream",
     "text": [
      "0.66579\n"
     ]
    }
   ],
   "source": [
    "#変える場合の勝つ確率.\n",
    "count=0\n",
    "N =10**5\n",
    "for i in range(N):\n",
    "    s=random.randint(1,3)\n",
    "    if s!=2 and s==3:\n",
    "        count+=1\n",
    "    if s!=3 and s==2:\n",
    "        count +=1\n",
    "print(count/N)"
   ]
  }
 ],
 "metadata": {
  "kernelspec": {
   "display_name": "python 3.6.3",
   "language": "python",
   "name": "python3.6"
  },
  "language_info": {
   "codemirror_mode": {
    "name": "ipython",
    "version": 3
   },
   "file_extension": ".py",
   "mimetype": "text/x-python",
   "name": "python",
   "nbconvert_exporter": "python",
   "pygments_lexer": "ipython3",
   "version": "3.6.3"
  },
  "toc": {
   "base_numbering": 1,
   "nav_menu": {},
   "number_sections": true,
   "sideBar": true,
   "skip_h1_title": false,
   "title_cell": "Table of Contents",
   "title_sidebar": "Contents",
   "toc_cell": false,
   "toc_position": {},
   "toc_section_display": true,
   "toc_window_display": false
  }
 },
 "nbformat": 4,
 "nbformat_minor": 2
}
